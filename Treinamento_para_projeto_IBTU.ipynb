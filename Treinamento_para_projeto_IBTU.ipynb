{
  "nbformat": 4,
  "nbformat_minor": 0,
  "metadata": {
    "colab": {
      "provenance": [],
      "mount_file_id": "1b_Y-zjNI3BhX-ctE44eZJX08NMluvWSO",
      "authorship_tag": "ABX9TyMPMOaMlP/rctsfnqqOy2Wv",
      "include_colab_link": true
    },
    "kernelspec": {
      "name": "python3",
      "display_name": "Python 3"
    },
    "language_info": {
      "name": "python"
    }
  },
  "cells": [
    {
      "cell_type": "markdown",
      "metadata": {
        "id": "view-in-github",
        "colab_type": "text"
      },
      "source": [
        "<a href=\"https://colab.research.google.com/github/cosez/CheckSignin/blob/main/Treinamento_para_projeto_IBTU.ipynb\" target=\"_parent\"><img src=\"https://colab.research.google.com/assets/colab-badge.svg\" alt=\"Open In Colab\"/></a>"
      ]
    },
    {
      "cell_type": "code",
      "execution_count": null,
      "metadata": {
        "id": "eRiGpqGo0h4T"
      },
      "outputs": [],
      "source": [
        "# univariate multi-step cnn for the power usage dataset\n",
        "from math import sqrt\n",
        "from numpy import split\n",
        "from numpy import array\n",
        "from pandas import read_csv\n",
        "from sklearn.metrics import mean_squared_error\n",
        "from matplotlib import pyplot\n",
        "from keras.models import Sequential\n",
        "from keras.layers import Dense\n",
        "from keras.layers import Flatten\n",
        "from keras.layers.convolutional import Conv1D\n",
        "from keras.layers.convolutional import MaxPooling1D\n",
        "import numpy as np\n",
        "import matplotlib.pyplot as plt"
      ]
    },
    {
      "cell_type": "code",
      "source": [
        "# split a univariate dataset into train/test sets\n",
        "def split_dataset(data):\n",
        "    # split into standard weeks\n",
        "    train, test = data[:-12], data[-12:]\n",
        "    # restructure into windows of weekly data\n",
        "    train = array(split(train, len(train)/4))\n",
        "    test = array(split(test, len(test)/12))\n",
        "    return train, test"
      ],
      "metadata": {
        "id": "jCx60i1x03pJ"
      },
      "execution_count": null,
      "outputs": []
    },
    {
      "cell_type": "code",
      "source": [
        "# evaluate one or more weekly forecasts against expected values\n",
        "def evaluate_forecasts(actual, predicted):\n",
        "    scores = list()\n",
        "    # calculate an RMSE score for each day\n",
        "    for i in range(actual.shape[1]):\n",
        "        # calculate mse\n",
        "        mse = mean_squared_error(actual[:, i], predicted[:, i])\n",
        "        # calculate rmse\n",
        "        rmse = sqrt(mse)\n",
        "        # store\n",
        "        scores.append(rmse)\n",
        "    # calculate overall RMSE\n",
        "    s = 0\n",
        "    for row in range(actual.shape[0]):\n",
        "        for col in range(actual.shape[1]):\n",
        "            s += (actual[row, col] - predicted[row, col])**2\n",
        "    score = sqrt(s / (actual.shape[0] * actual.shape[1]))\n",
        "    matrix = np.corrcoef(actual, predicted)\n",
        "    print('Matriz: ', matrix[0,1])\n",
        "    plt.scatter(actual, predicted)\n",
        "    plt.xlabel('Actual')\n",
        "    plt.ylabel('Predictions')\n",
        "    plt.title('Actual vs. Predictions')\n",
        "    plt.show()\n",
        "    return score, scores"
      ],
      "metadata": {
        "id": "-_tZ7bnm1BvW"
      },
      "execution_count": null,
      "outputs": []
    },
    {
      "cell_type": "code",
      "source": [
        "# summarize scores\n",
        "def summarize_scores(name, score, scores):\n",
        "    s_scores = ', '.join(['%.1f' % s for s in scores])\n",
        "    print('%s: [%.3f] %s' % (name, score, s_scores))\n"
      ],
      "metadata": {
        "id": "niN3lyw71NYW"
      },
      "execution_count": null,
      "outputs": []
    },
    {
      "cell_type": "code",
      "source": [
        "# convert history into inputs and outputs\n",
        "def to_supervised(train, n_input, n_out=12):\n",
        "    # flatten data\n",
        "    data = train.reshape((train.shape[0]*train.shape[1], train.shape[2]))\n",
        "    X, y = list(), list()\n",
        "    in_start = 0\n",
        "    # step over the entire history one time step at a time\n",
        "    for _ in range(len(data)):\n",
        "        # define the end of the input sequence\n",
        "        in_end = in_start + n_input\n",
        "        out_end = in_end + n_out\n",
        "        # ensure we have enough data for this instance\n",
        "        if out_end <= len(data):\n",
        "            x_input = data[in_start:in_end, 0]\n",
        "            x_input = x_input.reshape((len(x_input), 1))\n",
        "            X.append(x_input)\n",
        "            y.append(data[in_end:out_end, 0])\n",
        "        # move along one time step\n",
        "        in_start += 1\n",
        "    return array(X), array(y)"
      ],
      "metadata": {
        "id": "kSuFgJ0O1e3l"
      },
      "execution_count": null,
      "outputs": []
    },
    {
      "cell_type": "code",
      "source": [
        "# train the model\n",
        "def build_model(train, n_input):\n",
        "    # prepare data\n",
        "    train_x, train_y = to_supervised(train, n_input)\n",
        "    # define parameters\n",
        "    verbose, epochs, batch_size = 0, 20, 4\n",
        "    n_timesteps, n_features, n_outputs = train_x.shape[1], train_x.shape[2], train_y.shape[1]\n",
        "    # define model\n",
        "    model = Sequential()\n",
        "    model.add(Conv1D(16, 3, activation='relu', input_shape=(n_timesteps,n_features)))\n",
        "    model.add(MaxPooling1D())\n",
        "    model.add(Flatten())\n",
        "    model.add(Dense(10, activation='relu'))\n",
        "    model.add(Dense(n_outputs))\n",
        "    model.compile(loss='mse', optimizer='adam')\n",
        "    # fit network\n",
        "    model.fit(train_x, train_y, epochs=epochs, batch_size=batch_size, verbose=verbose)\n",
        "    return model"
      ],
      "metadata": {
        "id": "kP1uxZLV1o4_"
      },
      "execution_count": null,
      "outputs": []
    },
    {
      "cell_type": "code",
      "source": [
        "# make a forecast\n",
        "def forecast(model, history, n_input):\n",
        "    # flatten data\n",
        "    data = array(history)\n",
        "    data = data.reshape((data.shape[0]*data.shape[1], 1))\n",
        "    # retrieve last observations for input data\n",
        "    input_x = data[-n_input:, 0]\n",
        "    # reshape into [1, n_input, 1]\n",
        "    input_x = input_x.reshape((1, len(input_x), 1))\n",
        "    print('Input SHAPE: ',input_x.shape)\n",
        "    print('Input para predição: ',input_x)\n",
        "    # forecast the next week\n",
        "    yhat = model.predict(input_x, verbose=0)\n",
        "    print('YHAT SHAPE',yhat.shape)\n",
        "    print('YHAT[0]: ',yhat[0])\n",
        "    # we only want the vector forecast\n",
        "    yhat = yhat[0]\n",
        "    return yhat"
      ],
      "metadata": {
        "id": "cyu1coc83xbS"
      },
      "execution_count": null,
      "outputs": []
    },
    {
      "cell_type": "code",
      "source": [
        "# evaluate a single model\n",
        "def evaluate_model(train, test, n_input):\n",
        "    # fit model\n",
        "    model = build_model(train, n_input)\n",
        "    # history is a list of weekly data\n",
        "    history = [x for x in train]\n",
        "    # walk-forward validation over each week\n",
        "    predictions = list()\n",
        "    for i in range(len(test)):\n",
        "        # predict the week\n",
        "        yhat_sequence = forecast(model, history, n_input)\n",
        "        # store the predictions\n",
        "        predictions.append(yhat_sequence)\n",
        "        # get real observation and add to history for predicting the next week\n",
        "        history.append(test[i, :])\n",
        "    # evaluate predictions days for each week\n",
        "    predictions = array(predictions)\n",
        "    print('Predictions: ', predictions)\n",
        "    score, scores = evaluate_forecasts(test[:, :, 0], predictions)\n",
        "    return score, scores\n"
      ],
      "metadata": {
        "id": "522z2Dms1wAR"
      },
      "execution_count": null,
      "outputs": []
    },
    {
      "cell_type": "code",
      "source": [
        "# load the new file\n",
        "dataset = read_csv('//Austrália/Potência_Diaria_ARWF1.csv', index_col=0, parse_dates=True)\n",
        "#adjusting from daily to weekly using the mean\n",
        "resample_weekly_DF = dataset.resample('W')\n",
        "weekly_sum_power_DF = resample_weekly_DF.mean()\n",
        "weekly_sum_power_DF = weekly_sum_power_DF.iloc[:-1]\n",
        "dataset = weekly_sum_power_DF['ARWF1']\n",
        "# split into train and test\n",
        "train, test = split_dataset(dataset.values)\n",
        "# evaluate model and get scores\n",
        "n_input = 4\n",
        "score, scores = evaluate_model(train.reshape(train.shape[0], train.shape[1], 1), test.reshape(test.shape[0], test.shape[1], 1), n_input)\n",
        "# summarize scores\n",
        "summarize_scores('cnn', score, scores)\n",
        "# plot scores\n",
        "weeks = ['Week_1', 'Week_2', 'Week_3', 'Week_4', 'Week_5', 'Week_6', 'Week_7', 'Week_8', 'Week_9', 'Week_10', 'Week_11', 'Week_12']\n",
        "pyplot.plot(weeks, scores, marker='o', label='cnn')\n",
        "plt.xticks(rotation=45)\n",
        "pyplot.show()"
      ],
      "metadata": {
        "colab": {
          "base_uri": "https://localhost:8080/",
          "height": 1000
        },
        "id": "yCO0IrhZ2hnB",
        "outputId": "e664c780-7ce3-4f54-bd90-d0659c8ad6b4"
      },
      "execution_count": null,
      "outputs": [
        {
          "output_type": "stream",
          "name": "stdout",
          "text": [
            "Input SHAPE:  (1, 4, 1)\n",
            "Input para predição:  [[[76.34403671]\n",
            "  [53.65738591]\n",
            "  [51.78999157]\n",
            "  [54.06294643]]]\n",
            "YHAT SHAPE (1, 12)\n",
            "YHAT[0]:  [48.728294   41.991      42.356133   34.788628   59.41739    38.04472\n",
            " 41.65429    35.404324    1.529218   -0.08804902 45.652603   55.80986   ]\n",
            "Predictions:  [[48.728294   41.991      42.356133   34.788628   59.41739    38.04472\n",
            "  41.65429    35.404324    1.529218   -0.08804902 45.652603   55.80986   ]]\n",
            "Matriz:  0.1323301591566368\n"
          ]
        },
        {
          "output_type": "display_data",
          "data": {
            "text/plain": [
              "<Figure size 640x480 with 1 Axes>"
            ],
            "image/png": "[encoded data removed]"
          },
          "metadata": {}
        },
        {
          "output_type": "stream",
          "name": "stdout",
          "text": [
            "cnn: [39.605] 33.7, 49.1, 38.8, 16.8, 24.4, 27.1, 60.2, 45.5, 58.2, 49.3, 25.4, 2.3\n"
          ]
        },
        {
          "output_type": "display_data",
          "data": {
            "text/plain": [
              "<Figure size 640x480 with 1 Axes>"
            ],
            "image/png": "[encoded data removed]"
          },
          "metadata": {}
        }
      ]
    },
    {
      "cell_type": "code",
      "source": [
        "train.shape"
      ],
      "metadata": {
        "colab": {
          "base_uri": "https://localhost:8080/"
        },
        "id": "H0bDtv1GFcp9",
        "outputId": "2e59ee00-ffd0-45c7-c654-c61ef09028df"
      },
      "execution_count": null,
      "outputs": [
        {
          "output_type": "execute_result",
          "data": {
            "text/plain": [
              "(10, 4)"
            ]
          },
          "metadata": {},
          "execution_count": 10
        }
      ]
    },
    {
      "cell_type": "code",
      "source": [
        "dataset.tail(12)"
      ],
      "metadata": {
        "id": "-UwtnppMFmXP",
        "colab": {
          "base_uri": "https://localhost:8080/"
        },
        "outputId": "b3754819-6ba5-48dd-8762-7b11176f6854"
      },
      "execution_count": null,
      "outputs": [
        {
          "output_type": "execute_result",
          "data": {
            "text/plain": [
              "2018-10-14     82.442510\n",
              "2018-10-21     91.044891\n",
              "2018-10-28     81.184075\n",
              "2018-11-04     51.562698\n",
              "2018-11-11     35.025198\n",
              "2018-11-18     65.160696\n",
              "2018-11-25    101.867063\n",
              "2018-12-02     80.886260\n",
              "2018-12-09     59.692418\n",
              "2018-12-16     49.261508\n",
              "2018-12-23     71.010677\n",
              "2018-12-30     53.545585\n",
              "Freq: W-SUN, Name: ARWF1, dtype: float64"
            ]
          },
          "metadata": {},
          "execution_count": 11
        }
      ]
    },
    {
      "cell_type": "code",
      "source": [
        "dataset.describe()"
      ],
      "metadata": {
        "colab": {
          "base_uri": "https://localhost:8080/"
        },
        "id": "Lffu98lOM0AU",
        "outputId": "4f786455-a14a-45a2-9d22-8ff1f0236f5b"
      },
      "execution_count": null,
      "outputs": [
        {
          "output_type": "execute_result",
          "data": {
            "text/plain": [
              "count     52.000000\n",
              "mean      67.668068\n",
              "std       25.681109\n",
              "min       23.689881\n",
              "25%       51.714484\n",
              "50%       61.568208\n",
              "75%       83.878819\n",
              "max      145.072917\n",
              "Name: ARWF1, dtype: float64"
            ]
          },
          "metadata": {},
          "execution_count": 14
        }
      ]
    }
  ]
}