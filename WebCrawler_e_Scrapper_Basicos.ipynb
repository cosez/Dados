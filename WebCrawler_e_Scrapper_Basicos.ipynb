{
  "nbformat": 4,
  "nbformat_minor": 0,
  "metadata": {
    "colab": {
      "provenance": [],
      "authorship_tag": "ABX9TyMGHfcq+a1R+0OTDpDBzZhh",
      "include_colab_link": true
    },
    "kernelspec": {
      "name": "python3",
      "display_name": "Python 3"
    },
    "language_info": {
      "name": "python"
    }
  },
  "cells": [
    {
      "cell_type": "markdown",
      "metadata": {
        "id": "view-in-github",
        "colab_type": "text"
      },
      "source": [
        "<a href=\"https://colab.research.google.com/github/cosez/Dados/blob/main/WebCrawler_e_Scrapper_Basicos.ipynb\" target=\"_parent\"><img src=\"https://colab.research.google.com/assets/colab-badge.svg\" alt=\"Open In Colab\"/></a>"
      ]
    },
    {
      "cell_type": "markdown",
      "metadata": {
        "id": "_I3uQJlWrqOB"
      },
      "source": [
        "## Web Scrapper"
      ]
    },
    {
      "cell_type": "code",
      "metadata": {
        "id": "FuSqOWXF4Q_j"
      },
      "source": [
        "from bs4 import BeautifulSoup\n",
        "import requests"
      ],
      "execution_count": null,
      "outputs": []
    },
    {
      "cell_type": "code",
      "metadata": {
        "colab": {
          "base_uri": "https://localhost:8080/"
        },
        "id": "SQunHp57W-Wv",
        "outputId": "29c00d46-7748-41fd-ee6e-bb05eff5b582"
      },
      "source": [
        "site = requests.get('https://www.climatempo.com.br/').content # Objeto site está recebendo o conteúdo da requisição http do site ...\n",
        "\n",
        "soup = BeautifulSoup(site, 'html.parser')\n",
        "# objeto soup está baixando do site o html\n",
        "#print(soup.prettify())\n",
        "#transforma html em string e o print vai exibir o html\n",
        "\n",
        "print(soup.title.string)"
      ],
      "execution_count": null,
      "outputs": [
        {
          "output_type": "stream",
          "name": "stdout",
          "text": [
            "-\n",
            "Clima e Previsão do tempo agora: Meteorologia Climatempo\n"
          ]
        }
      ]
    },
    {
      "cell_type": "markdown",
      "metadata": {
        "id": "BN5-gvpwZZ33"
      },
      "source": [
        "#-------------------------------------------------------------------------------------------------------------"
      ]
    },
    {
      "cell_type": "markdown",
      "metadata": {
        "id": "FNX0K6-FZhwh"
      },
      "source": [
        "##webcrawler"
      ]
    },
    {
      "cell_type": "code",
      "metadata": {
        "id": "Oi_Y4ScRZeTk"
      },
      "source": [
        "import requests\n",
        "from bs4 import BeautifulSoup\n",
        "import operator\n",
        "from collections import Counter"
      ],
      "execution_count": null,
      "outputs": []
    },
    {
      "cell_type": "code",
      "metadata": {
        "id": "3DmKFaGhZyLB"
      },
      "source": [
        "def start(url):\n",
        "    wordlist = []\n",
        "    source_code = requests.get(url).text\n",
        "\n",
        "    soup = BeautifulSoup(source_code, 'html.parser')\n",
        "\n",
        "    # Text in given web-page is stored under\n",
        "    # The <div> tags with class <entry-content>\n",
        "    for each_text in soup.findAll('div', {'class': 'entry-content'}):\n",
        "        content = each_text.text\n",
        "\n",
        "        words = content.lower().split()\n",
        "\n",
        "        for each_word in words:\n",
        "            wordlist.append(each_word)\n",
        "        clean_wordlist(wordlist)"
      ],
      "execution_count": null,
      "outputs": []
    },
    {
      "cell_type": "code",
      "metadata": {
        "id": "NTFP8DsUbC6U"
      },
      "source": [
        "def clean_wordlist(wordlist):\n",
        "    clean_list = []\n",
        "    for word in wordlist:\n",
        "        symbols = '!@#$%&*()_-+={[}]|\\;:<>?/., '\n",
        "\n",
        "        for i in range(0, len(symbols)):\n",
        "            word = word.replace(symbols[i], '')\n",
        "\n",
        "        if len(word) > 0:\n",
        "            clean_list.append(word)\n",
        "    create_dictionary(clean_list)"
      ],
      "execution_count": null,
      "outputs": []
    },
    {
      "cell_type": "code",
      "metadata": {
        "id": "81TTpLQ2b_Jf"
      },
      "source": [
        "def create_dictionary(clean_list):\n",
        "    word_count = {}\n",
        "    for word in clean_list:\n",
        "        if word in word_count:\n",
        "            word_count[word] += 1\n",
        "        else:\n",
        "            word_count[word] = 1\n",
        "\n",
        "    for key, value in sorted(word_count.items(), key=operator.itemgetter(1)):\n",
        "        print('% s : % s ' % (key, value))\n",
        "\n",
        "    c = Counter(word_count)\n",
        "\n",
        "    top = c.most_common(10)\n",
        "    print(top)\n"
      ],
      "execution_count": null,
      "outputs": []
    },
    {
      "cell_type": "code",
      "metadata": {
        "colab": {
          "base_uri": "https://localhost:8080/"
        },
        "id": "qpkJMr86c3lM",
        "outputId": "2c6601a9-7c9e-4dde-8e1e-86ca0d15f358"
      },
      "source": [
        "start('https://www.geeksforgeeks.org/python-programming-language/?ref=shm')"
      ],
      "execution_count": null,
      "outputs": [
        {
          "output_type": "stream",
          "name": "stdout",
          "text": [
            "languagelast : 1 \n",
            "updated : 1 \n",
            "29 : 1 \n",
            "jul : 1 \n",
            "2021python : 1 \n",
            "generalpurpose : 1 \n",
            "popular : 1 \n",
            "latest : 1 \n",
            "development : 1 \n",
            "along : 1 \n",
            "cutting : 1 \n",
            "edge : 1 \n",
            "technology : 1 \n",
            "software : 1 \n",
            "industry : 1 \n",
            "well : 1 \n",
            "suited : 1 \n",
            "beginners : 1 \n",
            "also : 1 \n",
            "experienced : 1 \n",
            "c : 1 \n",
            "javathis : 1 \n",
            "specially : 1 \n",
            "designed : 1 \n",
            "tutorial : 1 \n",
            "will : 1 \n",
            "help : 1 \n",
            "you : 1 \n",
            "learn : 1 \n",
            "efficient : 1 \n",
            "way : 1 \n",
            "topics : 1 \n",
            "from : 1 \n",
            "advanced : 1 \n",
            "webscraping : 1 \n",
            "deeplearning : 1 \n",
            "examplesbelow : 1 \n",
            "some : 1 \n",
            "facts : 1 \n",
            "about : 1 \n",
            "currently : 1 \n",
            "widely : 1 \n",
            "multipurpose : 1 \n",
            "allows : 1 \n",
            "objectoriented : 1 \n",
            "procedural : 1 \n",
            "paradigmspython : 1 \n",
            "programs : 1 \n",
            "generally : 1 \n",
            "smaller : 1 \n",
            "than : 1 \n",
            "java : 1 \n",
            "have : 1 \n",
            "type : 1 \n",
            "relatively : 1 \n",
            "less : 1 \n",
            "requirement : 1 \n",
            "makes : 1 \n",
            "them : 1 \n",
            "readable : 1 \n",
            "timepython : 1 \n",
            "almost : 1 \n",
            "techgiant : 1 \n",
            "companies : 1 \n",
            "– : 1 \n",
            "google : 1 \n",
            "amazon : 1 \n",
            "facebook : 1 \n",
            "dropbox : 1 \n",
            "uber… : 1 \n",
            "etcthe : 1 \n",
            "biggest : 1 \n",
            "strength : 1 \n",
            "huge : 1 \n",
            "collection : 1 \n",
            "standard : 1 \n",
            "library : 1 \n",
            "which : 1 \n",
            "can : 1 \n",
            "be : 1 \n",
            "followingmachine : 1 \n",
            "learninggui : 1 \n",
            "kivy : 1 \n",
            "tkinter : 1 \n",
            "pyqt : 1 \n",
            "frameworks : 1 \n",
            "youtube : 1 \n",
            "dropboximage : 1 \n",
            "opencv : 1 \n",
            "pillowweb : 1 \n",
            "scraping : 1 \n",
            "scrapy : 1 \n",
            "beautifulsoup : 1 \n",
            "seleniumtest : 1 \n",
            "frameworksmultimediascientific : 1 \n",
            "computingtext : 1 \n",
            "many : 1 \n",
            "morerecent : 1 \n",
            "articles : 1 \n",
            "on : 1 \n",
            "examplespython : 1 \n",
            "output : 1 \n",
            "questions : 1 \n",
            "inputoutput : 1 \n",
            "types : 1 \n",
            "operators : 1 \n",
            "control : 1 \n",
            "flow : 1 \n",
            "functions : 1 \n",
            "object : 1 \n",
            "oriented : 1 \n",
            "concepts : 1 \n",
            "exception : 1 \n",
            "handling : 1 \n",
            "collections : 1 \n",
            "framework : 1 \n",
            "analysis : 1 \n",
            "numpy : 1 \n",
            "pandas : 1 \n",
            "gui : 1 \n",
            "modules : 1 \n",
            "working : 1 \n",
            "database : 1 \n",
            "misc : 1 \n",
            "projects : 1 \n",
            "questionsbasicspython : 1 \n",
            "introductionpython : 1 \n",
            "basicspython : 1 \n",
            "new : 1 \n",
            "generation : 1 \n",
            "languageimportant : 1 \n",
            "difference : 1 \n",
            "between : 1 \n",
            "2x : 1 \n",
            "3x : 1 \n",
            "examplekeywords : 1 \n",
            "1 : 1 \n",
            "2namespaces : 1 \n",
            "scope : 1 \n",
            "pythonstatement : 1 \n",
            "comment : 1 \n",
            "pythonstructuring : 1 \n",
            "programshow : 1 \n",
            "check : 1 \n",
            "if : 1 \n",
            "string : 1 \n",
            "valid : 1 \n",
            "keyword : 1 \n",
            "pythonhow : 1 \n",
            "assign : 1 \n",
            "values : 1 \n",
            "languageshow : 1 \n",
            "print : 1 \n",
            "without : 1 \n",
            "newline : 1 \n",
            "pythondecision : 1 \n",
            "makingbasic : 1 \n",
            "calculator : 1 \n",
            "program : 1 \n",
            "using : 1 \n",
            "pythonpython : 1 \n",
            "advantages : 1 \n",
            "applicationsinputoutput : 1 \n",
            "highlevel : 2 \n",
            "very : 2 \n",
            "3 : 2 \n",
            "being : 2 \n",
            "web : 2 \n",
            "machine : 2 \n",
            "learning : 2 \n",
            "programmers : 2 \n",
            "languages : 2 \n",
            "most : 2 \n",
            "basics : 2 \n",
            "etc : 2 \n",
            "are : 2 \n",
            "languagepython : 2 \n",
            "indentation : 2 \n",
            "by : 2 \n",
            "instagram : 2 \n",
            "processing : 2 \n",
            "multiple : 2 \n",
            "choice : 2 \n",
            "data : 2 \n",
            "variables : 2 \n",
            "set : 2 \n",
            "applications : 3 \n",
            "all : 3 \n",
            "for : 3 \n",
            "other : 3 \n",
            "django : 3 \n",
            "of : 3 \n",
            "a : 4 \n",
            "used : 5 \n",
            "the : 6 \n",
            "to : 6 \n",
            "is : 7 \n",
            "with : 7 \n",
            "language : 8 \n",
            "like : 8 \n",
            "programming : 11 \n",
            "and : 11 \n",
            "in : 11 \n",
            "python : 19 \n",
            "[('python', 19), ('programming', 11), ('and', 11), ('in', 11), ('language', 8), ('like', 8), ('is', 7), ('with', 7), ('the', 6), ('to', 6)]\n"
          ]
        }
      ]
    }
  ]
}